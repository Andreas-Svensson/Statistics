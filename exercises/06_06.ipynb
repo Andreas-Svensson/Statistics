{
 "cells": [
  {
   "attachments": {},
   "cell_type": "markdown",
   "metadata": {},
   "source": [
    "# 6:6\n",
    "\n",
    "A sample from an approximately normally distributed population has the following values:"
   ]
  },
  {
   "cell_type": "code",
   "execution_count": 1,
   "metadata": {},
   "outputs": [],
   "source": [
    "from math import sqrt\n",
    "\n",
    "sample = [124, 432, 349, 295, 266, 230]\n",
    "n = len(sample)"
   ]
  },
  {
   "attachments": {},
   "cell_type": "markdown",
   "metadata": {},
   "source": [
    "---\n",
    "### Calculate a 98% confidence interval"
   ]
  },
  {
   "cell_type": "code",
   "execution_count": 2,
   "metadata": {},
   "outputs": [
    {
     "data": {
      "text/plain": [
       "(0.010000000000000009, 5)"
      ]
     },
     "execution_count": 2,
     "metadata": {},
     "output_type": "execute_result"
    }
   ],
   "source": [
    "x_bar = sum(sample) / n\n",
    "\n",
    "sample_variance = (sum([x**2 for x in sample]) - n * x_bar**2) / (n - 1)\n",
    "s = sqrt(sample_variance)\n",
    "\n",
    "confidence = 0.98\n",
    "\n",
    "# need to get t-score since we don't have sigma\n",
    "alpha = (1 - confidence) / 2\n",
    "df = n - 1\n",
    "\n",
    "alpha, df"
   ]
  },
  {
   "cell_type": "code",
   "execution_count": 3,
   "metadata": {},
   "outputs": [
    {
     "name": "stdout",
     "output_type": "stream",
     "text": [
      "lower = 138.48209927896824\n",
      "est_mean = 282.6666666666667\n",
      "upper = 426.85123405436514\n"
     ]
    }
   ],
   "source": [
    "t = 3.365 # value in t table from alpha and df\n",
    "\n",
    "lower = x_bar - t * (s / sqrt(n))\n",
    "upper = x_bar + t * (s / sqrt(n))\n",
    "\n",
    "est_mean = (lower + upper) / 2\n",
    "\n",
    "print(f\"{lower = }\")\n",
    "print(f\"{est_mean = }\")\n",
    "print(f\"{upper = }\")"
   ]
  },
  {
   "cell_type": "code",
   "execution_count": null,
   "metadata": {},
   "outputs": [],
   "source": []
  }
 ],
 "metadata": {
  "kernelspec": {
   "display_name": "Statistics-zAI2K-29",
   "language": "python",
   "name": "python3"
  },
  "language_info": {
   "codemirror_mode": {
    "name": "ipython",
    "version": 3
   },
   "file_extension": ".py",
   "mimetype": "text/x-python",
   "name": "python",
   "nbconvert_exporter": "python",
   "pygments_lexer": "ipython3",
   "version": "3.9.13"
  },
  "orig_nbformat": 4,
  "vscode": {
   "interpreter": {
    "hash": "f6da207b0334f49c0bbb522a9e4404d2433debe91ef35f47561f7bedf313f743"
   }
  }
 },
 "nbformat": 4,
 "nbformat_minor": 2
}
