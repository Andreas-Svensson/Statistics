{
 "cells": [
  {
   "attachments": {},
   "cell_type": "markdown",
   "metadata": {},
   "source": [
    "# 2:3\n",
    "\n",
    "For two events A and B we know that $P(A) = 0.3$ and $P(A \\cup B) = 0.5$"
   ]
  },
  {
   "cell_type": "code",
   "execution_count": 1,
   "metadata": {},
   "outputs": [],
   "source": [
    "PA = 0.3\n",
    "PAUB = 0.5"
   ]
  },
  {
   "attachments": {},
   "cell_type": "markdown",
   "metadata": {},
   "source": [
    "---\n",
    "### a) Is $P(B) = 0.15$ possible?"
   ]
  },
  {
   "cell_type": "code",
   "execution_count": 2,
   "metadata": {},
   "outputs": [
    {
     "name": "stdout",
     "output_type": "stream",
     "text": [
      "Can P(B) be less than 0.2? False\n"
     ]
    }
   ],
   "source": [
    "# the formula for calculating P(B) would be P(AUB) - P(A) + whatever overlap there is between them\n",
    "overlap = 0 # the smallest possible amount of overlap\n",
    "PB = PAUB - PA + overlap\n",
    "\n",
    "# P(AUB) - P(A) = 0.2, therefore no matter what the overlap between A and B is, P(B) cannot be smaller than 0.2\n",
    "\n",
    "print(f\"Can P(B) be less than 0.2? {PB < 0.2}\")"
   ]
  },
  {
   "attachments": {},
   "cell_type": "markdown",
   "metadata": {},
   "source": [
    "---\n",
    "### b) What must be true if $P(B) = 0.2$?"
   ]
  },
  {
   "cell_type": "code",
   "execution_count": 3,
   "metadata": {},
   "outputs": [
    {
     "name": "stdout",
     "output_type": "stream",
     "text": [
      "For P(B) to equal 0.2, the overlap between A and B must be 0.0\n",
      "In other words, A and B must be disjunct\n"
     ]
    }
   ],
   "source": [
    "# using above formula for calculating P(B) gives:\n",
    "\n",
    "# P(B) = 0.2 \n",
    "# <-> \n",
    "# P(AUB) - P(A) + overlap = 0.2 \n",
    "# <->\n",
    "# overlap = P(AUB) - P(A) - 0.2\n",
    "\n",
    "overlap = PAUB - PA - 0.2\n",
    "\n",
    "print(f\"For P(B) to equal 0.2, the overlap between A and B must be {overlap}\\n\" \\\n",
    "    \"In other words, A and B must be disjunct\")"
   ]
  },
  {
   "cell_type": "code",
   "execution_count": null,
   "metadata": {},
   "outputs": [],
   "source": []
  }
 ],
 "metadata": {
  "kernelspec": {
   "display_name": "Statistics-zAI2K-29",
   "language": "python",
   "name": "python3"
  },
  "language_info": {
   "codemirror_mode": {
    "name": "ipython",
    "version": 3
   },
   "file_extension": ".py",
   "mimetype": "text/x-python",
   "name": "python",
   "nbconvert_exporter": "python",
   "pygments_lexer": "ipython3",
   "version": "3.9.13"
  },
  "orig_nbformat": 4,
  "vscode": {
   "interpreter": {
    "hash": "f6da207b0334f49c0bbb522a9e4404d2433debe91ef35f47561f7bedf313f743"
   }
  }
 },
 "nbformat": 4,
 "nbformat_minor": 2
}
