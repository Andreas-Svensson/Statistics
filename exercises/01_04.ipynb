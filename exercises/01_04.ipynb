{
 "cells": [
  {
   "attachments": {},
   "cell_type": "markdown",
   "metadata": {},
   "source": [
    "# 1:4\n",
    "\n",
    "Using the diagram in the exercise book which shows data for amount of children per residence in an area,\n",
    "\n",
    "Describe the:"
   ]
  },
  {
   "cell_type": "code",
   "execution_count": 1,
   "metadata": {},
   "outputs": [
    {
     "data": {
      "text/plain": [
       "184"
      ]
     },
     "execution_count": 1,
     "metadata": {},
     "output_type": "execute_result"
    }
   ],
   "source": [
    "import pandas as pd\n",
    "\n",
    "# reading data from graph manually and creating a list of all datapoints\n",
    "zero    = [0] * 58\n",
    "one     = [1] * 32\n",
    "two     = [2] * 47\n",
    "three   = [3] * 23\n",
    "four    = [4] * 14\n",
    "five    = [5] * 6\n",
    "six     = [6] * 3\n",
    "seven   = [7] * 1\n",
    "\n",
    "children = zero + one + two + three + four + five + six + seven\n",
    "df_children = pd.DataFrame(children)\n",
    "\n",
    "residences = len(children)\n",
    "residences # 184 residences in survey"
   ]
  },
  {
   "attachments": {},
   "cell_type": "markdown",
   "metadata": {},
   "source": [
    "---\n",
    "### a) Amount"
   ]
  },
  {
   "cell_type": "code",
   "execution_count": 2,
   "metadata": {},
   "outputs": [
    {
     "data": {
      "text/plain": [
       "306"
      ]
     },
     "execution_count": 2,
     "metadata": {},
     "output_type": "execute_result"
    }
   ],
   "source": [
    "amount_children = sum(children)\n",
    "amount_children"
   ]
  },
  {
   "cell_type": "code",
   "execution_count": 3,
   "metadata": {},
   "outputs": [
    {
     "data": {
      "text/plain": [
       "306"
      ]
     },
     "execution_count": 3,
     "metadata": {},
     "output_type": "execute_result"
    }
   ],
   "source": [
    "# manual calculation\n",
    "(1 * 32) + (2 * 47) + (3 * 23) + (4 * 14) + (5 * 6) + (6 * 3) + (7 * 1)"
   ]
  },
  {
   "attachments": {},
   "cell_type": "markdown",
   "metadata": {},
   "source": [
    "---\n",
    "### b) Mode"
   ]
  },
  {
   "cell_type": "code",
   "execution_count": 4,
   "metadata": {},
   "outputs": [
    {
     "data": {
      "text/plain": [
       "0"
      ]
     },
     "execution_count": 4,
     "metadata": {},
     "output_type": "execute_result"
    }
   ],
   "source": [
    "df_children.mode()[0][0]"
   ]
  },
  {
   "cell_type": "code",
   "execution_count": 5,
   "metadata": {},
   "outputs": [
    {
     "name": "stdout",
     "output_type": "stream",
     "text": [
      "0: 58 occurences\n",
      "1: 32 occurences\n",
      "2: 47 occurences\n",
      "3: 23 occurences\n",
      "4: 14 occurences\n",
      "5: 6  occurences\n",
      "6: 3  occurences\n",
      "7: 1  occurences\n",
      "\n",
      "Mode: 0\n"
     ]
    }
   ],
   "source": [
    "# \"manual\" calculation\n",
    "# can be done without any calculation by looking at which graph is the largest (has the most amount of values)\n",
    "# in this case 0 children is the most common occurence\n",
    "\n",
    "mode, occurences = 0, 0\n",
    "\n",
    "for i in [zero, one, two, three, four, five, six, seven]:\n",
    "    print(f\"{i[0]}: {len(i):<2} occurences\")\n",
    "    if len(i) > occurences: mode, occurences = i, len(i)\n",
    "\n",
    "print(f\"\\nMode: {mode[0]}\")"
   ]
  },
  {
   "attachments": {},
   "cell_type": "markdown",
   "metadata": {},
   "source": [
    "---\n",
    "### c) Median"
   ]
  },
  {
   "cell_type": "code",
   "execution_count": 6,
   "metadata": {},
   "outputs": [
    {
     "data": {
      "text/plain": [
       "2.0"
      ]
     },
     "execution_count": 6,
     "metadata": {},
     "output_type": "execute_result"
    }
   ],
   "source": [
    "df_children.median()[0]"
   ]
  },
  {
   "cell_type": "code",
   "execution_count": 7,
   "metadata": {},
   "outputs": [
    {
     "name": "stdout",
     "output_type": "stream",
     "text": [
      "2.0\n"
     ]
    }
   ],
   "source": [
    "# calculating manually\n",
    "# the amount of residences, 184, is an even number, therefore median is the sum of the middle values divided by 2\n",
    "\n",
    "# since counting in python starts from 0 we need to take the len() / 2 index, and the len() / 2 - 1 index\n",
    "middle = int(len(children) / 2) # convert to int because division makes it a float, and float cannot be used for index\n",
    "\n",
    "median = (children[middle] + children[middle - 1]) / 2\n",
    "print(median)"
   ]
  },
  {
   "attachments": {},
   "cell_type": "markdown",
   "metadata": {},
   "source": [
    "---\n",
    "### d) Mean"
   ]
  },
  {
   "cell_type": "code",
   "execution_count": 8,
   "metadata": {},
   "outputs": [
    {
     "data": {
      "text/plain": [
       "1.6630434782608696"
      ]
     },
     "execution_count": 8,
     "metadata": {},
     "output_type": "execute_result"
    }
   ],
   "source": [
    "df_children.mean()[0]"
   ]
  },
  {
   "cell_type": "code",
   "execution_count": 9,
   "metadata": {},
   "outputs": [
    {
     "data": {
      "text/plain": [
       "1.6630434782608696"
      ]
     },
     "execution_count": 9,
     "metadata": {},
     "output_type": "execute_result"
    }
   ],
   "source": [
    "# calculating manually\n",
    "# sum(children) / len(children), but on calculator:\n",
    "mean = ((0 * 58) + (1 * 32) + (2 * 47) + (3 * 23) + (4 * 14) + (5 * 6) + (6 * 3) + (7 * 1)) / (58 + 32 + 47 + 23 + 14 + 6 + 3 + 1)\n",
    "mean"
   ]
  },
  {
   "attachments": {},
   "cell_type": "markdown",
   "metadata": {},
   "source": [
    "---\n",
    "### e) Standard Deviation"
   ]
  },
  {
   "cell_type": "code",
   "execution_count": 10,
   "metadata": {},
   "outputs": [
    {
     "data": {
      "text/plain": [
       "1.562308589410051"
      ]
     },
     "execution_count": 10,
     "metadata": {},
     "output_type": "execute_result"
    }
   ],
   "source": [
    "df_children.std(ddof=0)[0] # TODO degrees of freedom"
   ]
  },
  {
   "cell_type": "code",
   "execution_count": 11,
   "metadata": {},
   "outputs": [
    {
     "name": "stdout",
     "output_type": "stream",
     "text": [
      "variance = 2.440808128544424\n",
      "1.5623085894100512\n"
     ]
    }
   ],
   "source": [
    "# calculating manually\n",
    "# standard deviation is the square root of variance, therefore calculate variance first\n",
    "from math import sqrt\n",
    "\n",
    "# calculating variance:\n",
    "count = 0\n",
    "for i in zero, one, two, three, four, five, six, seven:\n",
    "    count += len(i) * (i[0] - mean)**2 # 58 * (0 - mean)**2 + 32 * (1 - mean)**2 + ... + 1 * (7 - mean)**2\n",
    "\n",
    "variance = count / len(children)\n",
    "print(f\"{variance = }\")\n",
    "\n",
    "# calculating standard deviation:\n",
    "standard_deviation = sqrt(variance)\n",
    "print(standard_deviation)"
   ]
  },
  {
   "cell_type": "code",
   "execution_count": null,
   "metadata": {},
   "outputs": [],
   "source": []
  }
 ],
 "metadata": {
  "kernelspec": {
   "display_name": "Statistics-zAI2K-29",
   "language": "python",
   "name": "python3"
  },
  "language_info": {
   "codemirror_mode": {
    "name": "ipython",
    "version": 3
   },
   "file_extension": ".py",
   "mimetype": "text/x-python",
   "name": "python",
   "nbconvert_exporter": "python",
   "pygments_lexer": "ipython3",
   "version": "3.9.13"
  },
  "orig_nbformat": 4,
  "vscode": {
   "interpreter": {
    "hash": "f6da207b0334f49c0bbb522a9e4404d2433debe91ef35f47561f7bedf313f743"
   }
  }
 },
 "nbformat": 4,
 "nbformat_minor": 2
}
