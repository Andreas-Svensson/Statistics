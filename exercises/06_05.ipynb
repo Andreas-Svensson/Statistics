{
 "cells": [
  {
   "attachments": {},
   "cell_type": "markdown",
   "metadata": {},
   "source": [
    "# 6:5\n",
    "\n"
   ]
  },
  {
   "cell_type": "code",
   "execution_count": 1,
   "metadata": {},
   "outputs": [],
   "source": [
    "from math import sqrt\n",
    "\n",
    "n = 13\n",
    "result = [15, 18, 14, 15, 14, 14, 11, 12, 19, 18, 18, 16, 11]"
   ]
  },
  {
   "attachments": {},
   "cell_type": "markdown",
   "metadata": {},
   "source": [
    "Calculate the confidence intervals:"
   ]
  },
  {
   "cell_type": "code",
   "execution_count": 2,
   "metadata": {},
   "outputs": [],
   "source": [
    "# calculating required values:\n",
    "x_bar = sum(result) / n\n",
    "\n",
    "sample_variance = (sum([x**2 for x in result]) - n * x_bar**2) / (n - 1)\n",
    "\n",
    "s = sqrt(sample_variance) # estimation of standard deviation based on sample"
   ]
  },
  {
   "attachments": {},
   "cell_type": "markdown",
   "metadata": {},
   "source": [
    "---\n",
    "### a) 95% Confidence Interval"
   ]
  },
  {
   "cell_type": "code",
   "execution_count": 3,
   "metadata": {},
   "outputs": [
    {
     "name": "stdout",
     "output_type": "stream",
     "text": [
      "alpha = 0.025000000000000022, df = 12\n"
     ]
    }
   ],
   "source": [
    "confidence = 0.95 # confidence specified by the exercise\n",
    "\n",
    "# values used to read t table:\n",
    "alpha = (1 - confidence) / 2 # alpha as the odds of landing outside the confidence interval on either side\n",
    "df = n - 1 # degrees of freedom\n",
    "\n",
    "print(f\"{alpha = }, {df = }\")"
   ]
  },
  {
   "cell_type": "code",
   "execution_count": 4,
   "metadata": {},
   "outputs": [
    {
     "name": "stdout",
     "output_type": "stream",
     "text": [
      "lower = 13.363423664302791\n",
      "est_mean = 15.0\n",
      "upper = 16.636576335697207\n"
     ]
    }
   ],
   "source": [
    "t = 2.179 # reading t table for df and alpha\n",
    "\n",
    "lower = x_bar - t * (s / sqrt(n))\n",
    "upper = x_bar + t * (s / sqrt(n))\n",
    "\n",
    "est_mean = (lower + upper) / 2\n",
    "\n",
    "print(f\"{lower = }\")\n",
    "print(f\"{est_mean = }\")\n",
    "print(f\"{upper = }\")"
   ]
  },
  {
   "attachments": {},
   "cell_type": "markdown",
   "metadata": {},
   "source": [
    "---\n",
    "### b) 99% Confidence Interval"
   ]
  },
  {
   "cell_type": "code",
   "execution_count": 5,
   "metadata": {},
   "outputs": [
    {
     "name": "stdout",
     "output_type": "stream",
     "text": [
      "alpha = 0.0050000000000000044, df = 12\n"
     ]
    }
   ],
   "source": [
    "confidence = 0.99 # confidence specified by the exercise\n",
    "\n",
    "# values used to read t table:\n",
    "alpha = (1 - confidence) / 2 # alpha as the odds of landing outside the confidence interval on either side\n",
    "df = n - 1 # degrees of freedom\n",
    "\n",
    "print(f\"{alpha = }, {df = }\")"
   ]
  },
  {
   "cell_type": "code",
   "execution_count": 6,
   "metadata": {},
   "outputs": [
    {
     "name": "stdout",
     "output_type": "stream",
     "text": [
      "lower = 12.705488432512633\n",
      "est_mean = 15.0\n",
      "upper = 17.29451156748737\n"
     ]
    }
   ],
   "source": [
    "t = 3.055 # reading t table for df and alpha\n",
    "\n",
    "lower = x_bar - t * (s / sqrt(n))\n",
    "upper = x_bar + t * (s / sqrt(n))\n",
    "\n",
    "est_mean = (lower + upper) / 2\n",
    "\n",
    "print(f\"{lower = }\")\n",
    "print(f\"{est_mean = }\")\n",
    "print(f\"{upper = }\")"
   ]
  },
  {
   "cell_type": "code",
   "execution_count": null,
   "metadata": {},
   "outputs": [],
   "source": []
  }
 ],
 "metadata": {
  "kernelspec": {
   "display_name": "Statistics-zAI2K-29",
   "language": "python",
   "name": "python3"
  },
  "language_info": {
   "codemirror_mode": {
    "name": "ipython",
    "version": 3
   },
   "file_extension": ".py",
   "mimetype": "text/x-python",
   "name": "python",
   "nbconvert_exporter": "python",
   "pygments_lexer": "ipython3",
   "version": "3.9.13"
  },
  "orig_nbformat": 4,
  "vscode": {
   "interpreter": {
    "hash": "f6da207b0334f49c0bbb522a9e4404d2433debe91ef35f47561f7bedf313f743"
   }
  }
 },
 "nbformat": 4,
 "nbformat_minor": 2
}
