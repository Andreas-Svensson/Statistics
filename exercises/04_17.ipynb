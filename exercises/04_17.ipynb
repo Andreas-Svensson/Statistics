{
 "cells": [
  {
   "attachments": {},
   "cell_type": "markdown",
   "metadata": {},
   "source": [
    "# 4:17"
   ]
  },
  {
   "attachments": {},
   "cell_type": "markdown",
   "metadata": {},
   "source": [
    "Calculate $P(-z \\lt Z \\lt z) = 0.57$"
   ]
  },
  {
   "attachments": {},
   "cell_type": "markdown",
   "metadata": {},
   "source": [
    "---\n",
    "$|-z| = z$ -> equal distance to both sides of 0  \n",
    "\n",
    "the area outside of z to either side is thus $(1 - 0.57) / 2 = 0.215$  \n",
    "\n",
    "reading table values for 0.215 gives values of z: 0.79  "
   ]
  },
  {
   "cell_type": "code",
   "execution_count": 1,
   "metadata": {},
   "outputs": [
    {
     "name": "stdout",
     "output_type": "stream",
     "text": [
      "Area outside of one z is 0.21500000000000002\n",
      "-z = -0.79, z = 0.79\n"
     ]
    }
   ],
   "source": [
    "PZ_inside_span = 0.57\n",
    "PZ_both_z = 1 - PZ_inside_span # gives area outside of middle 0.57\n",
    "\n",
    "PZ_one_z = PZ_both_z / 2 # gives area for one side since there are 2 sides with equal area that fall outside the specified range\n",
    "\n",
    "print(f\"Area outside of one z is {PZ_one_z}\")\n",
    "\n",
    "z = 0.79 # reading table values for PZ_one_z (0.215)\n",
    "\n",
    "print(f\"-z = -{z}, {z = }\")"
   ]
  },
  {
   "cell_type": "code",
   "execution_count": null,
   "metadata": {},
   "outputs": [],
   "source": []
  }
 ],
 "metadata": {
  "kernelspec": {
   "display_name": "Statistics-zAI2K-29",
   "language": "python",
   "name": "python3"
  },
  "language_info": {
   "codemirror_mode": {
    "name": "ipython",
    "version": 3
   },
   "file_extension": ".py",
   "mimetype": "text/x-python",
   "name": "python",
   "nbconvert_exporter": "python",
   "pygments_lexer": "ipython3",
   "version": "3.9.13"
  },
  "orig_nbformat": 4,
  "vscode": {
   "interpreter": {
    "hash": "f6da207b0334f49c0bbb522a9e4404d2433debe91ef35f47561f7bedf313f743"
   }
  }
 },
 "nbformat": 4,
 "nbformat_minor": 2
}
