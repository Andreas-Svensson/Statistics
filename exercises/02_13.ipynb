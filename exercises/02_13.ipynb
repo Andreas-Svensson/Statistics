{
 "cells": [
  {
   "attachments": {},
   "cell_type": "markdown",
   "metadata": {},
   "source": [
    "# 2:13\n",
    "\n",
    "Tone can predict rain with an accuracy of 0.8  \n",
    "Every 4 days, Tone predicts rain  "
   ]
  },
  {
   "attachments": {},
   "cell_type": "markdown",
   "metadata": {},
   "source": [
    "---\n",
    "### What are the odds of rain falling during a day in which Tone has predicted it to?"
   ]
  },
  {
   "cell_type": "code",
   "execution_count": 1,
   "metadata": {},
   "outputs": [
    {
     "name": "stdout",
     "output_type": "stream",
     "text": [
      "20%\n"
     ]
    }
   ],
   "source": [
    "# want to find probability of rain falling AND predicting rain occurring at the same time\n",
    "\n",
    "# P(A) = unknown,   probability of rain falling\n",
    "# P(B) = 0.25,      probability of predicting rain\n",
    "# P(A|B) = 0.8,     probability of rain falling if rain predicted\n",
    "\n",
    "# P(A|B) = P(A AND B) / P(B), multiply P(B) on both sides\n",
    "# <->\n",
    "# P(A AND B) = P(A|B) * P(B)\n",
    "\n",
    "PB = 0.25\n",
    "PAB = 0.8\n",
    "\n",
    "PA_AND_B = PAB * PB\n",
    "\n",
    "print(f\"{PA_AND_B * 100:.0f}%\")"
   ]
  },
  {
   "cell_type": "code",
   "execution_count": null,
   "metadata": {},
   "outputs": [],
   "source": []
  }
 ],
 "metadata": {
  "kernelspec": {
   "display_name": "Statistics-zAI2K-29",
   "language": "python",
   "name": "python3"
  },
  "language_info": {
   "codemirror_mode": {
    "name": "ipython",
    "version": 3
   },
   "file_extension": ".py",
   "mimetype": "text/x-python",
   "name": "python",
   "nbconvert_exporter": "python",
   "pygments_lexer": "ipython3",
   "version": "3.9.13"
  },
  "orig_nbformat": 4,
  "vscode": {
   "interpreter": {
    "hash": "f6da207b0334f49c0bbb522a9e4404d2433debe91ef35f47561f7bedf313f743"
   }
  }
 },
 "nbformat": 4,
 "nbformat_minor": 2
}
