{
 "cells": [
  {
   "attachments": {},
   "cell_type": "markdown",
   "metadata": {},
   "source": [
    "# 6:4\n",
    "\n",
    "The amount of sold products per day of a company is to be estimated with a 99% confidence interval  \n",
    "A sample with data describing amount of sales per day from 8 randomly chosen days is taken, with the result 35, 45, 34, 42, 37, 39, 32, and 28  \n",
    "There is reason to believe that the sales are approximately normally distributed with $\\sigma = 6$  "
   ]
  },
  {
   "cell_type": "code",
   "execution_count": 1,
   "metadata": {},
   "outputs": [],
   "source": [
    "from math import sqrt\n",
    "\n",
    "n = 8\n",
    "sigma = 6\n",
    "results = [35, 45, 34, 42, 37, 39, 32, 28]"
   ]
  },
  {
   "attachments": {},
   "cell_type": "markdown",
   "metadata": {},
   "source": [
    "Interval estimate the true mean of sales"
   ]
  },
  {
   "cell_type": "code",
   "execution_count": 2,
   "metadata": {},
   "outputs": [
    {
     "data": {
      "text/plain": [
       "36.5"
      ]
     },
     "execution_count": 2,
     "metadata": {},
     "output_type": "execute_result"
    }
   ],
   "source": [
    "x_bar = sum(results) / n\n",
    "\n",
    "x_bar"
   ]
  },
  {
   "cell_type": "code",
   "execution_count": 3,
   "metadata": {},
   "outputs": [
    {
     "data": {
      "text/plain": [
       "0.995"
      ]
     },
     "execution_count": 3,
     "metadata": {},
     "output_type": "execute_result"
    }
   ],
   "source": [
    "\n",
    "confidence = 0.99\n",
    "probability = 1 - (1 - confidence) / 2\n",
    "\n",
    "probability"
   ]
  },
  {
   "cell_type": "code",
   "execution_count": 4,
   "metadata": {},
   "outputs": [
    {
     "name": "stdout",
     "output_type": "stream",
     "text": [
      "lower = 31.026993513616123\n",
      "est_mean = 36.5\n",
      "upper = 41.97300648638388\n"
     ]
    }
   ],
   "source": [
    "z = 2.57 # 0.9949 rounded\n",
    "z = 2.58 # 0.9951 rounded\n",
    "\n",
    "lower = x_bar - z * (sigma / sqrt(n))\n",
    "upper = x_bar + z * (sigma / sqrt(n))\n",
    "\n",
    "est_mean = (lower + upper) / 2\n",
    "\n",
    "print(f\"{lower = }\")\n",
    "print(f\"{est_mean = }\")\n",
    "print(f\"{upper = }\")"
   ]
  },
  {
   "cell_type": "code",
   "execution_count": null,
   "metadata": {},
   "outputs": [],
   "source": []
  }
 ],
 "metadata": {
  "kernelspec": {
   "display_name": "Statistics-zAI2K-29",
   "language": "python",
   "name": "python3"
  },
  "language_info": {
   "codemirror_mode": {
    "name": "ipython",
    "version": 3
   },
   "file_extension": ".py",
   "mimetype": "text/x-python",
   "name": "python",
   "nbconvert_exporter": "python",
   "pygments_lexer": "ipython3",
   "version": "3.9.13"
  },
  "orig_nbformat": 4,
  "vscode": {
   "interpreter": {
    "hash": "f6da207b0334f49c0bbb522a9e4404d2433debe91ef35f47561f7bedf313f743"
   }
  }
 },
 "nbformat": 4,
 "nbformat_minor": 2
}
