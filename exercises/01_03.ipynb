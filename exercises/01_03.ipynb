{
 "cells": [
  {
   "attachments": {},
   "cell_type": "markdown",
   "metadata": {},
   "source": [
    "# 1:3\n",
    "\n",
    "What type of data is the answer to respective questions in a club member survey:"
   ]
  },
  {
   "attachments": {},
   "cell_type": "markdown",
   "metadata": {},
   "source": [
    "### a) Sex  \n",
    "- no meaningful order  \n",
    "- not quantitative  \n",
    "\n",
    "A: Nominal\n",
    "\n",
    "---\n",
    "\n",
    "### b) Age  \n",
    "- meaningful order  \n",
    "- quantitative\n",
    "- equal intervals\n",
    "- true zero\n",
    "\n",
    "A: Ratio\n",
    "\n",
    "---\n",
    "\n",
    "### c) Favorite Temperature  \n",
    "- meaningful order\n",
    "- quantitative\n",
    "- equal intervals\n",
    "- non-meaningful zero  \n",
    "\n",
    "A: Interval\n",
    "\n",
    "---\n",
    "\n",
    "### d) Club Membership Number  \n",
    "- no meaningful order\n",
    "- not quantitative (could be, depending on use, for example if membership numbers are in numerical order)  \n",
    "\n",
    "A: Nominal\n",
    "\n",
    "---\n",
    "\n",
    "### e) Review (0-10)  \n",
    "- meaningful order\n",
    "- quantitative\n",
    "- equal intervals\n",
    "- true zero\n",
    "\n",
    "A: Ratio  \n",
    "Facit säger Ordinal, varför?\n"
   ]
  },
  {
   "cell_type": "code",
   "execution_count": null,
   "metadata": {},
   "outputs": [],
   "source": []
  }
 ],
 "metadata": {
  "language_info": {
   "name": "python"
  },
  "orig_nbformat": 4
 },
 "nbformat": 4,
 "nbformat_minor": 2
}
