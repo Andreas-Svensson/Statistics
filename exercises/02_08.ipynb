{
 "cells": [
  {
   "attachments": {},
   "cell_type": "markdown",
   "metadata": {},
   "source": [
    "# 2.8\n",
    "\n",
    "Sture is going to write two exams:  \n",
    "- The odds of him passing the first exam is 0.8  \n",
    "- The odds of him passing the sexond exam is 0.6  \n",
    "- The odds of him passing both is 0.5  "
   ]
  },
  {
   "cell_type": "code",
   "execution_count": 1,
   "metadata": {},
   "outputs": [],
   "source": [
    "pass_first = 0.8\n",
    "pass_second = 0.6\n",
    "pass_both = 0.5"
   ]
  },
  {
   "attachments": {},
   "cell_type": "markdown",
   "metadata": {},
   "source": [
    "What are the odds of him passing at least one exam?"
   ]
  },
  {
   "cell_type": "code",
   "execution_count": 2,
   "metadata": {},
   "outputs": [
    {
     "data": {
      "text/plain": [
       "0.8999999999999999"
      ]
     },
     "execution_count": 2,
     "metadata": {},
     "output_type": "execute_result"
    }
   ],
   "source": [
    "# the odds of passing one exam is the same as the odds of A OR B occurring, which is calculated as:\n",
    "# the odds of event one occurring + the odds of event two occurring - the overlap between them, i.e. the odds of both occurring\n",
    "\n",
    "# NOTE don't forget to remove the overlap, P(A AND B), so as to not count those events twice\n",
    "\n",
    "# P(A OR B) = P(A) + P(B) - P(A AND B):\n",
    "pass_least_one = pass_first + pass_second - pass_both\n",
    "pass_least_one"
   ]
  },
  {
   "cell_type": "code",
   "execution_count": null,
   "metadata": {},
   "outputs": [],
   "source": []
  }
 ],
 "metadata": {
  "kernelspec": {
   "display_name": "Statistics-zAI2K-29",
   "language": "python",
   "name": "python3"
  },
  "language_info": {
   "codemirror_mode": {
    "name": "ipython",
    "version": 3
   },
   "file_extension": ".py",
   "mimetype": "text/x-python",
   "name": "python",
   "nbconvert_exporter": "python",
   "pygments_lexer": "ipython3",
   "version": "3.9.13"
  },
  "orig_nbformat": 4,
  "vscode": {
   "interpreter": {
    "hash": "f6da207b0334f49c0bbb522a9e4404d2433debe91ef35f47561f7bedf313f743"
   }
  }
 },
 "nbformat": 4,
 "nbformat_minor": 2
}
