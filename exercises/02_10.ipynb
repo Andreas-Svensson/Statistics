{
 "cells": [
  {
   "attachments": {},
   "cell_type": "markdown",
   "metadata": {},
   "source": [
    "# 2:10\n",
    "\n",
    "In a university, the amount of men and women in each respective year group looks as follows:"
   ]
  },
  {
   "cell_type": "code",
   "execution_count": 1,
   "metadata": {},
   "outputs": [
    {
     "data": {
      "text/html": [
       "<div>\n",
       "<style scoped>\n",
       "    .dataframe tbody tr th:only-of-type {\n",
       "        vertical-align: middle;\n",
       "    }\n",
       "\n",
       "    .dataframe tbody tr th {\n",
       "        vertical-align: top;\n",
       "    }\n",
       "\n",
       "    .dataframe thead th {\n",
       "        text-align: right;\n",
       "    }\n",
       "</style>\n",
       "<table border=\"1\" class=\"dataframe\">\n",
       "  <thead>\n",
       "    <tr style=\"text-align: right;\">\n",
       "      <th></th>\n",
       "      <th>Men</th>\n",
       "      <th>Women</th>\n",
       "    </tr>\n",
       "  </thead>\n",
       "  <tbody>\n",
       "    <tr>\n",
       "      <th>Year 1</th>\n",
       "      <td>19</td>\n",
       "      <td>14</td>\n",
       "    </tr>\n",
       "    <tr>\n",
       "      <th>Year 2</th>\n",
       "      <td>18</td>\n",
       "      <td>16</td>\n",
       "    </tr>\n",
       "    <tr>\n",
       "      <th>Year 3</th>\n",
       "      <td>18</td>\n",
       "      <td>11</td>\n",
       "    </tr>\n",
       "  </tbody>\n",
       "</table>\n",
       "</div>"
      ],
      "text/plain": [
       "        Men  Women\n",
       "Year 1   19     14\n",
       "Year 2   18     16\n",
       "Year 3   18     11"
      ]
     },
     "execution_count": 1,
     "metadata": {},
     "output_type": "execute_result"
    }
   ],
   "source": [
    "import pandas as pd\n",
    "\n",
    "table = pd.DataFrame()\n",
    "\n",
    "table.index     = [\"Year 1\", \"Year 2\", \"Year 3\"]\n",
    "table[\"Men\"]    = [19, 18, 18]\n",
    "table[\"Women\"]  = [14, 16, 11]\n",
    "\n",
    "table"
   ]
  },
  {
   "attachments": {},
   "cell_type": "markdown",
   "metadata": {},
   "source": [
    "---\n",
    "### Assume a student is picked at random, what is the odds that this student is:"
   ]
  },
  {
   "cell_type": "code",
   "execution_count": 2,
   "metadata": {},
   "outputs": [
    {
     "data": {
      "text/html": [
       "<div>\n",
       "<style scoped>\n",
       "    .dataframe tbody tr th:only-of-type {\n",
       "        vertical-align: middle;\n",
       "    }\n",
       "\n",
       "    .dataframe tbody tr th {\n",
       "        vertical-align: top;\n",
       "    }\n",
       "\n",
       "    .dataframe thead th {\n",
       "        text-align: right;\n",
       "    }\n",
       "</style>\n",
       "<table border=\"1\" class=\"dataframe\">\n",
       "  <thead>\n",
       "    <tr style=\"text-align: right;\">\n",
       "      <th></th>\n",
       "      <th>Men</th>\n",
       "      <th>Women</th>\n",
       "      <th>Sum</th>\n",
       "    </tr>\n",
       "  </thead>\n",
       "  <tbody>\n",
       "    <tr>\n",
       "      <th>Year 1</th>\n",
       "      <td>19</td>\n",
       "      <td>14</td>\n",
       "      <td>33</td>\n",
       "    </tr>\n",
       "    <tr>\n",
       "      <th>Year 2</th>\n",
       "      <td>18</td>\n",
       "      <td>16</td>\n",
       "      <td>34</td>\n",
       "    </tr>\n",
       "    <tr>\n",
       "      <th>Year 3</th>\n",
       "      <td>18</td>\n",
       "      <td>11</td>\n",
       "      <td>29</td>\n",
       "    </tr>\n",
       "    <tr>\n",
       "      <th>Sum</th>\n",
       "      <td>55</td>\n",
       "      <td>41</td>\n",
       "      <td>96</td>\n",
       "    </tr>\n",
       "  </tbody>\n",
       "</table>\n",
       "</div>"
      ],
      "text/plain": [
       "        Men  Women  Sum\n",
       "Year 1   19     14   33\n",
       "Year 2   18     16   34\n",
       "Year 3   18     11   29\n",
       "Sum      55     41   96"
      ]
     },
     "execution_count": 2,
     "metadata": {},
     "output_type": "execute_result"
    }
   ],
   "source": [
    "# first calculating sums of all rows and columns\n",
    "\n",
    "# adding a sum row\n",
    "table.loc[\"Sum\"] = table.sum(axis = \"rows\")\n",
    "\n",
    "# adding a sum column\n",
    "table[\"Sum\"] = table.sum(axis = \"columns\")\n",
    "\n",
    "\n",
    "table"
   ]
  },
  {
   "attachments": {},
   "cell_type": "markdown",
   "metadata": {},
   "source": [
    "---\n",
    "### a) A Man"
   ]
  },
  {
   "cell_type": "code",
   "execution_count": 3,
   "metadata": {},
   "outputs": [
    {
     "name": "stdout",
     "output_type": "stream",
     "text": [
      "57.29%\n"
     ]
    }
   ],
   "source": [
    "# 55 men out of 96 students gives:\n",
    "odds = 55 / 96\n",
    "\n",
    "print(f\"{odds * 100:.2f}%\")"
   ]
  },
  {
   "attachments": {},
   "cell_type": "markdown",
   "metadata": {},
   "source": [
    "---\n",
    "### b) Not a Third Year Student"
   ]
  },
  {
   "cell_type": "code",
   "execution_count": 4,
   "metadata": {},
   "outputs": [
    {
     "name": "stdout",
     "output_type": "stream",
     "text": [
      "69.79%\n"
     ]
    }
   ],
   "source": [
    "# 33 first year and 34 second year out of 96 students gives:\n",
    "odds = (33 + 34) / 96\n",
    "\n",
    "print(f\"{odds * 100:.2f}%\")"
   ]
  },
  {
   "attachments": {},
   "cell_type": "markdown",
   "metadata": {},
   "source": [
    "---\n",
    "### c) Male first or second year student"
   ]
  },
  {
   "cell_type": "code",
   "execution_count": 5,
   "metadata": {},
   "outputs": [
    {
     "name": "stdout",
     "output_type": "stream",
     "text": [
      "38.54%\n"
     ]
    }
   ],
   "source": [
    "# 19 first and 18 second year male out of 96 students gives:\n",
    "odds = (19 + 18) / 96\n",
    "\n",
    "print(f\"{odds * 100:.2f}%\")"
   ]
  },
  {
   "attachments": {},
   "cell_type": "markdown",
   "metadata": {},
   "source": [
    "---\n",
    "### d) First Year Student and Woman"
   ]
  },
  {
   "cell_type": "code",
   "execution_count": 6,
   "metadata": {},
   "outputs": [
    {
     "name": "stdout",
     "output_type": "stream",
     "text": [
      "14.58%\n"
     ]
    }
   ],
   "source": [
    "# 14 female first year students out of 96 total gives:\n",
    "odds = 14 / 96\n",
    "\n",
    "print(f\"{odds * 100:.2f}%\")"
   ]
  },
  {
   "attachments": {},
   "cell_type": "markdown",
   "metadata": {},
   "source": [
    "---\n",
    "### e) First year student, given that the student is a woman"
   ]
  },
  {
   "cell_type": "code",
   "execution_count": 7,
   "metadata": {},
   "outputs": [
    {
     "name": "stdout",
     "output_type": "stream",
     "text": [
      "34.15%\n"
     ]
    }
   ],
   "source": [
    "# P(A|B)\n",
    "# 14 first year students out of 41 women total gives:\n",
    "odds = 14 / 41\n",
    "\n",
    "print(f\"{odds * 100:.2f}%\")"
   ]
  },
  {
   "cell_type": "code",
   "execution_count": 8,
   "metadata": {},
   "outputs": [
    {
     "name": "stdout",
     "output_type": "stream",
     "text": [
      "34.15%\n"
     ]
    }
   ],
   "source": [
    "# can also be calculated using the formula:\n",
    "# P(A|B) = P(A AND B) / P(B)\n",
    "odds = (14 / 96) / (41 / 96) # for manual calculation, multiply both by 96 to get 14 / 41 which is the same as above calculation\n",
    "\n",
    "print(f\"{odds * 100:.2f}%\")"
   ]
  },
  {
   "attachments": {},
   "cell_type": "markdown",
   "metadata": {},
   "source": [
    "---\n",
    "### f) A woman, given that the studen is a first year student"
   ]
  },
  {
   "cell_type": "code",
   "execution_count": 9,
   "metadata": {},
   "outputs": [
    {
     "name": "stdout",
     "output_type": "stream",
     "text": [
      "42.42%\n"
     ]
    }
   ],
   "source": [
    "# P(A|B)\n",
    "# 14 women out of 33 first year students gives:\n",
    "odds = 14 / 33\n",
    "\n",
    "print(f\"{odds * 100:.2f}%\")"
   ]
  },
  {
   "cell_type": "code",
   "execution_count": 10,
   "metadata": {},
   "outputs": [
    {
     "name": "stdout",
     "output_type": "stream",
     "text": [
      "42.42%\n"
     ]
    }
   ],
   "source": [
    "# can also be calculated using the formula:\n",
    "# P(A|B) = P(A AND B) / P(B)\n",
    "odds = (14 / 96) / (33 / 96) # for manual calculation, multiply both by 96 to get 14 / 41 which is the same as above calculation\n",
    "\n",
    "print(f\"{odds * 100:.2f}%\")"
   ]
  },
  {
   "attachments": {},
   "cell_type": "markdown",
   "metadata": {},
   "source": [
    "---\n",
    "### g) A woman or first year student (or both)"
   ]
  },
  {
   "cell_type": "code",
   "execution_count": 11,
   "metadata": {},
   "outputs": [
    {
     "name": "stdout",
     "output_type": "stream",
     "text": [
      "62.50%\n"
     ]
    }
   ],
   "source": [
    "# P(A U B)\n",
    "# P(A) + P(B) - overlap, which is P(A AND B)\n",
    "\n",
    "# odds woman\n",
    "PA = 41 / 96\n",
    "\n",
    "# odds first year student\n",
    "PB = 33 / 96\n",
    "\n",
    "# odds for overlap to be subtracted, in order to not count overlapping event twice\n",
    "overlap = 14 / 96\n",
    "\n",
    "odds = PA + PB - overlap\n",
    "\n",
    "print(f\"{odds * 100:.2f}%\")"
   ]
  },
  {
   "cell_type": "code",
   "execution_count": null,
   "metadata": {},
   "outputs": [],
   "source": []
  }
 ],
 "metadata": {
  "kernelspec": {
   "display_name": "Statistics-zAI2K-29",
   "language": "python",
   "name": "python3"
  },
  "language_info": {
   "codemirror_mode": {
    "name": "ipython",
    "version": 3
   },
   "file_extension": ".py",
   "mimetype": "text/x-python",
   "name": "python",
   "nbconvert_exporter": "python",
   "pygments_lexer": "ipython3",
   "version": "3.9.13"
  },
  "orig_nbformat": 4,
  "vscode": {
   "interpreter": {
    "hash": "f6da207b0334f49c0bbb522a9e4404d2433debe91ef35f47561f7bedf313f743"
   }
  }
 },
 "nbformat": 4,
 "nbformat_minor": 2
}
