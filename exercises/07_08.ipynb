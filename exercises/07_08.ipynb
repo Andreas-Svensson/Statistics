{
 "cells": [
  {
   "attachments": {},
   "cell_type": "markdown",
   "metadata": {},
   "source": [
    "# 7:8"
   ]
  },
  {
   "cell_type": "code",
   "execution_count": 1,
   "metadata": {},
   "outputs": [],
   "source": [
    "from math import sqrt\n",
    "\n",
    "mu = 2250\n",
    "n = 35\n",
    "x_bar = 2160\n",
    "s = 384\n",
    "alpha = 0.05"
   ]
  },
  {
   "attachments": {},
   "cell_type": "markdown",
   "metadata": {},
   "source": [
    "---\n",
    "### a) Can we with 0.05 significance say that the mean has changed?"
   ]
  },
  {
   "attachments": {},
   "cell_type": "markdown",
   "metadata": {},
   "source": [
    "hypotheses:  \n",
    "$H_0 : \\mu = 2250$  \n",
    "$H_A : \\mu \\neq 2250$"
   ]
  },
  {
   "cell_type": "code",
   "execution_count": 2,
   "metadata": {},
   "outputs": [
    {
     "data": {
      "text/plain": [
       "-1.3865811991639725"
      ]
     },
     "execution_count": 2,
     "metadata": {},
     "output_type": "execute_result"
    }
   ],
   "source": [
    "t_crit = 2.032 # t-table of df and alpha/2 since two-sided test\n",
    "t_crit = 1.691 # t-table of df and alpha was used, why?\n",
    "\n",
    "t_test = (x_bar - mu) / (s / sqrt(n))\n",
    "\n",
    "t_test # t_test is within +/- t_crit -> thus cannot reject H0 with a significance of 0.05"
   ]
  },
  {
   "attachments": {},
   "cell_type": "markdown",
   "metadata": {},
   "source": [
    "---\n",
    "### b) Calculate a 95% confidence interval of the true mean"
   ]
  },
  {
   "cell_type": "code",
   "execution_count": 3,
   "metadata": {},
   "outputs": [
    {
     "name": "stdout",
     "output_type": "stream",
     "text": [
      "lower = 2028.107255377279\n",
      "upper = 2291.892744622721\n"
     ]
    }
   ],
   "source": [
    "t = 2.032 # t-score of df and alpha/2\n",
    "\n",
    "lower = x_bar - t * (s / sqrt(n))\n",
    "upper = x_bar + t * (s / sqrt(n))\n",
    "\n",
    "print(f\"{lower = }\")\n",
    "print(f\"{upper = }\")"
   ]
  },
  {
   "cell_type": "code",
   "execution_count": null,
   "metadata": {},
   "outputs": [],
   "source": []
  }
 ],
 "metadata": {
  "kernelspec": {
   "display_name": "Statistics-zAI2K-29",
   "language": "python",
   "name": "python3"
  },
  "language_info": {
   "codemirror_mode": {
    "name": "ipython",
    "version": 3
   },
   "file_extension": ".py",
   "mimetype": "text/x-python",
   "name": "python",
   "nbconvert_exporter": "python",
   "pygments_lexer": "ipython3",
   "version": "3.9.13"
  },
  "orig_nbformat": 4,
  "vscode": {
   "interpreter": {
    "hash": "f6da207b0334f49c0bbb522a9e4404d2433debe91ef35f47561f7bedf313f743"
   }
  }
 },
 "nbformat": 4,
 "nbformat_minor": 2
}
