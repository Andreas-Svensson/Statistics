{
 "cells": [
  {
   "attachments": {},
   "cell_type": "markdown",
   "metadata": {},
   "source": [
    "# 6:20"
   ]
  },
  {
   "cell_type": "code",
   "execution_count": 1,
   "metadata": {},
   "outputs": [],
   "source": [
    "from math import sqrt\n",
    "\n",
    "n = 1029\n",
    "men = 0.38\n",
    "women = 0.48\n",
    "confidence = 0.99"
   ]
  },
  {
   "cell_type": "code",
   "execution_count": 2,
   "metadata": {},
   "outputs": [],
   "source": [
    "n_men = 494\n",
    "n_women = 535"
   ]
  },
  {
   "cell_type": "code",
   "execution_count": 3,
   "metadata": {},
   "outputs": [
    {
     "data": {
      "text/plain": [
       "0.0050000000000000044"
      ]
     },
     "execution_count": 3,
     "metadata": {},
     "output_type": "execute_result"
    }
   ],
   "source": [
    "alpha = 1 - confidence\n",
    "alpha / 2"
   ]
  },
  {
   "cell_type": "code",
   "execution_count": 4,
   "metadata": {},
   "outputs": [],
   "source": [
    "z = 2.58 # 0.0049\n",
    "\n",
    "sample_variance_men = (men * (1 - men)) / (n_men - 1)\n",
    "s_men = sqrt(sample_variance_men)\n",
    "\n",
    "sample_variance_women = (men * (1 - men)) / n_women\n",
    "s_women = sqrt(sample_variance_women)\n"
   ]
  },
  {
   "cell_type": "code",
   "execution_count": 5,
   "metadata": {},
   "outputs": [
    {
     "name": "stdout",
     "output_type": "stream",
     "text": [
      "lower_men = 0.3235993785369356\n",
      "upper_men = 0.4364006214630644\n",
      "lower_women = 0.4258584782830056\n",
      "upper_women = 0.5341415217169944\n"
     ]
    }
   ],
   "source": [
    "lower_men = men - z * s_men\n",
    "upper_men = men + z * s_men\n",
    "\n",
    "lower_women = women - z * s_women\n",
    "upper_women = women + z * s_women\n",
    "\n",
    "print(f\"{lower_men = }\")\n",
    "print(f\"{upper_men = }\")\n",
    "\n",
    "print(f\"{lower_women = }\")\n",
    "print(f\"{upper_women = }\")"
   ]
  },
  {
   "cell_type": "code",
   "execution_count": null,
   "metadata": {},
   "outputs": [],
   "source": []
  }
 ],
 "metadata": {
  "kernelspec": {
   "display_name": "Statistics-zAI2K-29",
   "language": "python",
   "name": "python3"
  },
  "language_info": {
   "codemirror_mode": {
    "name": "ipython",
    "version": 3
   },
   "file_extension": ".py",
   "mimetype": "text/x-python",
   "name": "python",
   "nbconvert_exporter": "python",
   "pygments_lexer": "ipython3",
   "version": "3.9.13"
  },
  "orig_nbformat": 4,
  "vscode": {
   "interpreter": {
    "hash": "f6da207b0334f49c0bbb522a9e4404d2433debe91ef35f47561f7bedf313f743"
   }
  }
 },
 "nbformat": 4,
 "nbformat_minor": 2
}
