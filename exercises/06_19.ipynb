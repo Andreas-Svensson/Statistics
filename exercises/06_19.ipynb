{
 "cells": [
  {
   "attachments": {},
   "cell_type": "markdown",
   "metadata": {},
   "source": [
    "# 6:19"
   ]
  },
  {
   "cell_type": "code",
   "execution_count": 1,
   "metadata": {},
   "outputs": [],
   "source": [
    "from math import sqrt\n",
    "\n",
    "p_bar = 0.4295\n",
    "n = 1029\n",
    "confidence = 0.95"
   ]
  },
  {
   "cell_type": "code",
   "execution_count": 2,
   "metadata": {},
   "outputs": [
    {
     "name": "stdout",
     "output_type": "stream",
     "text": [
      "alpha / 2 = 0.025000000000000022\n"
     ]
    }
   ],
   "source": [
    "alpha = 1 - confidence\n",
    "\n",
    "print(f\"{alpha / 2 = }\")"
   ]
  },
  {
   "cell_type": "code",
   "execution_count": 3,
   "metadata": {},
   "outputs": [
    {
     "name": "stdout",
     "output_type": "stream",
     "text": [
      "lower = 0.39925470725330414\n",
      "p_bar = 0.4295\n",
      "upper = 0.45974529274669584\n"
     ]
    }
   ],
   "source": [
    "z = 1.96\n",
    "\n",
    "sample_variance = (p_bar * (1 - p_bar)) / (n)\n",
    "s = sqrt(sample_variance)\n",
    "\n",
    "lower = p_bar - z * s\n",
    "upper = p_bar + z * s\n",
    "\n",
    "print(f\"{lower = }\")\n",
    "print(f\"{p_bar = }\")\n",
    "print(f\"{upper = }\")"
   ]
  },
  {
   "cell_type": "code",
   "execution_count": null,
   "metadata": {},
   "outputs": [],
   "source": []
  }
 ],
 "metadata": {
  "kernelspec": {
   "display_name": "Statistics-zAI2K-29",
   "language": "python",
   "name": "python3"
  },
  "language_info": {
   "codemirror_mode": {
    "name": "ipython",
    "version": 3
   },
   "file_extension": ".py",
   "mimetype": "text/x-python",
   "name": "python",
   "nbconvert_exporter": "python",
   "pygments_lexer": "ipython3",
   "version": "3.9.13"
  },
  "orig_nbformat": 4,
  "vscode": {
   "interpreter": {
    "hash": "f6da207b0334f49c0bbb522a9e4404d2433debe91ef35f47561f7bedf313f743"
   }
  }
 },
 "nbformat": 4,
 "nbformat_minor": 2
}
