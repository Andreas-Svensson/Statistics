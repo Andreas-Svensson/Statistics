{
 "cells": [
  {
   "attachments": {},
   "cell_type": "markdown",
   "metadata": {},
   "source": [
    "# 5:9\n",
    "\n",
    "Based on the information in 5:7, what are the odds of $\\overline X$ deviating less than 2 units from the true mean of the population"
   ]
  },
  {
   "cell_type": "code",
   "execution_count": 1,
   "metadata": {},
   "outputs": [],
   "source": [
    "from math import sqrt\n",
    "\n",
    "n = 64\n",
    "mu = 240\n",
    "sigma = 32"
   ]
  },
  {
   "cell_type": "code",
   "execution_count": 2,
   "metadata": {},
   "outputs": [
    {
     "data": {
      "text/plain": [
       "True"
      ]
     },
     "execution_count": 2,
     "metadata": {},
     "output_type": "execute_result"
    }
   ],
   "source": [
    "n >= 30 # can use CLT"
   ]
  },
  {
   "cell_type": "code",
   "execution_count": 3,
   "metadata": {},
   "outputs": [
    {
     "data": {
      "text/plain": [
       "240"
      ]
     },
     "execution_count": 3,
     "metadata": {},
     "output_type": "execute_result"
    }
   ],
   "source": [
    "EX = mu\n",
    "\n",
    "EX # estimated true mean"
   ]
  },
  {
   "cell_type": "code",
   "execution_count": 4,
   "metadata": {},
   "outputs": [
    {
     "data": {
      "text/plain": [
       "-0.5"
      ]
     },
     "execution_count": 4,
     "metadata": {},
     "output_type": "execute_result"
    }
   ],
   "source": [
    "# odds of landing between these values is P(the larger value) - P(the smaller value)\n",
    "# odds of landing outside the values is 1 - between value\n",
    "\n",
    "# or, since the distribution is uniform; 1 - P(the smaller value) * 2\n",
    "\n",
    "# calculating z-score of the smaller value\n",
    "z = ((EX - 2) - mu) / (sigma / sqrt(n))\n",
    "\n",
    "z"
   ]
  },
  {
   "cell_type": "code",
   "execution_count": 5,
   "metadata": {},
   "outputs": [
    {
     "data": {
      "text/plain": [
       "0.383"
      ]
     },
     "execution_count": 5,
     "metadata": {},
     "output_type": "execute_result"
    }
   ],
   "source": [
    "probability_z = 0.3085 # table value of z-score\n",
    "\n",
    "# calculating 1 - P(z-score) * 2\n",
    "probability_between = 1 - probability_z * 2 # multiply by 2 to get area of both sides, and subtract from 1 to get area inside\n",
    "\n",
    "probability_between"
   ]
  },
  {
   "cell_type": "code",
   "execution_count": null,
   "metadata": {},
   "outputs": [],
   "source": []
  }
 ],
 "metadata": {
  "kernelspec": {
   "display_name": "Statistics-zAI2K-29",
   "language": "python",
   "name": "python3"
  },
  "language_info": {
   "codemirror_mode": {
    "name": "ipython",
    "version": 3
   },
   "file_extension": ".py",
   "mimetype": "text/x-python",
   "name": "python",
   "nbconvert_exporter": "python",
   "pygments_lexer": "ipython3",
   "version": "3.9.13"
  },
  "orig_nbformat": 4,
  "vscode": {
   "interpreter": {
    "hash": "f6da207b0334f49c0bbb522a9e4404d2433debe91ef35f47561f7bedf313f743"
   }
  }
 },
 "nbformat": 4,
 "nbformat_minor": 2
}
