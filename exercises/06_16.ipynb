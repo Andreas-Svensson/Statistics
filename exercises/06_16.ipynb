{
 "cells": [
  {
   "attachments": {},
   "cell_type": "markdown",
   "metadata": {},
   "source": [
    "# 6:16"
   ]
  },
  {
   "cell_type": "code",
   "execution_count": 1,
   "metadata": {},
   "outputs": [],
   "source": [
    "from math import sqrt\n",
    "\n",
    "result = [8, 11, 3, 5, 9, 6, 7, 7]"
   ]
  },
  {
   "attachments": {},
   "cell_type": "markdown",
   "metadata": {},
   "source": [
    "---\n",
    "### a) Vad måste man göra för antagande för att kunna intervallskatta det sanna genomsnittliga värdet"
   ]
  },
  {
   "cell_type": "code",
   "execution_count": 2,
   "metadata": {},
   "outputs": [],
   "source": [
    "# anta normalfördelning"
   ]
  },
  {
   "attachments": {},
   "cell_type": "markdown",
   "metadata": {},
   "source": [
    "---\n",
    "### b) Calculate a 99% Confidence Interval"
   ]
  },
  {
   "cell_type": "code",
   "execution_count": 3,
   "metadata": {},
   "outputs": [
    {
     "name": "stdout",
     "output_type": "stream",
     "text": [
      "alpha / 2 = 0.0050000000000000044, df = 7\n"
     ]
    }
   ],
   "source": [
    "# calculating required values\n",
    "n = len(result)\n",
    "confidence = 0.99\n",
    "alpha = 1 - confidence\n",
    "df = n - 1\n",
    "mean = sum(result) / n\n",
    "sample_variance = (sum([x**2 for x in result]) - n * mean**2) / (n - 1)\n",
    "s = sqrt(sample_variance)\n",
    "\n",
    "print(f\"{alpha / 2 = }, {df = }\")"
   ]
  },
  {
   "cell_type": "code",
   "execution_count": 4,
   "metadata": {},
   "outputs": [
    {
     "name": "stdout",
     "output_type": "stream",
     "text": [
      "lower = 3.9697771121582495\n",
      "est_mean = 7.0\n",
      "upper = 10.03022288784175\n"
     ]
    }
   ],
   "source": [
    "p = 3.499\n",
    "\n",
    "lower = mean - p * (s / sqrt(n))\n",
    "upper = mean + p * (s / sqrt(n))\n",
    "\n",
    "est_mean = (lower + upper) / 2\n",
    "\n",
    "print(f\"{lower = }\")\n",
    "print(f\"{est_mean = }\")\n",
    "print(f\"{upper = }\")"
   ]
  },
  {
   "cell_type": "code",
   "execution_count": null,
   "metadata": {},
   "outputs": [],
   "source": []
  }
 ],
 "metadata": {
  "kernelspec": {
   "display_name": "Statistics-zAI2K-29",
   "language": "python",
   "name": "python3"
  },
  "language_info": {
   "codemirror_mode": {
    "name": "ipython",
    "version": 3
   },
   "file_extension": ".py",
   "mimetype": "text/x-python",
   "name": "python",
   "nbconvert_exporter": "python",
   "pygments_lexer": "ipython3",
   "version": "3.9.13"
  },
  "orig_nbformat": 4,
  "vscode": {
   "interpreter": {
    "hash": "f6da207b0334f49c0bbb522a9e4404d2433debe91ef35f47561f7bedf313f743"
   }
  }
 },
 "nbformat": 4,
 "nbformat_minor": 2
}
