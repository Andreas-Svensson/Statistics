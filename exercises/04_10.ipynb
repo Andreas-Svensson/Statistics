{
 "cells": [
  {
   "attachments": {},
   "cell_type": "markdown",
   "metadata": {},
   "source": [
    "# 4:10\n",
    "\n",
    "Describe $P(0 \\lt Z \\lt 100)$ without using table values"
   ]
  },
  {
   "cell_type": "code",
   "execution_count": 1,
   "metadata": {},
   "outputs": [
    {
     "data": {
      "text/plain": [
       "0.5"
      ]
     },
     "execution_count": 1,
     "metadata": {},
     "output_type": "execute_result"
    }
   ],
   "source": [
    "# for a standard normal random variable Z, the odds of anything larger than ~4 become disappearingly small\n",
    "# thus any value between 0 and 100 is roughly the same as any value greater than 0, which we know to be 0.5\n",
    "PZ = 0.5\n",
    "\n",
    "PZ"
   ]
  },
  {
   "cell_type": "code",
   "execution_count": null,
   "metadata": {},
   "outputs": [],
   "source": []
  }
 ],
 "metadata": {
  "kernelspec": {
   "display_name": "Statistics-zAI2K-29",
   "language": "python",
   "name": "python3"
  },
  "language_info": {
   "codemirror_mode": {
    "name": "ipython",
    "version": 3
   },
   "file_extension": ".py",
   "mimetype": "text/x-python",
   "name": "python",
   "nbconvert_exporter": "python",
   "pygments_lexer": "ipython3",
   "version": "3.9.13"
  },
  "orig_nbformat": 4,
  "vscode": {
   "interpreter": {
    "hash": "f6da207b0334f49c0bbb522a9e4404d2433debe91ef35f47561f7bedf313f743"
   }
  }
 },
 "nbformat": 4,
 "nbformat_minor": 2
}
