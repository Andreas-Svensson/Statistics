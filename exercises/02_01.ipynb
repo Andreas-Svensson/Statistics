{
 "cells": [
  {
   "attachments": {},
   "cell_type": "markdown",
   "metadata": {},
   "source": [
    "# 2:1\n",
    "\n",
    "The events A and B have the odds P(A) = 0.4 and P(B) = 0.7"
   ]
  },
  {
   "cell_type": "code",
   "execution_count": 1,
   "metadata": {},
   "outputs": [],
   "source": [
    "PA = 0.4\n",
    "PB = 0.7"
   ]
  },
  {
   "attachments": {},
   "cell_type": "markdown",
   "metadata": {},
   "source": [
    "Can the events be:"
   ]
  },
  {
   "attachments": {},
   "cell_type": "markdown",
   "metadata": {},
   "source": [
    "---\n",
    "### a) Complementary"
   ]
  },
  {
   "cell_type": "code",
   "execution_count": 2,
   "metadata": {},
   "outputs": [
    {
     "name": "stdout",
     "output_type": "stream",
     "text": [
      "False. There is some overlap, therefore A and B cannot be complementary\n",
      "True. A and B CAN be complementary since PA + PB does add up to 1However, we would require more information about their overlap to tell if they actually are\n"
     ]
    }
   ],
   "source": [
    "# for A and B to be complementary, they need to make up all of sample space without any overlap\n",
    "# i.e. the sum of their probabilities must be exactly 1\n",
    "\n",
    "if PA + PB > 1:\n",
    "    print(\"False. There is some overlap, therefore A and B cannot be complementary\")\n",
    "\n",
    "if PA + PB < 1:\n",
    "    print(\"False. A and B do not make up all of sample space, therefore they cannot be complementary\")\n",
    "\n",
    "else:\n",
    "    print(\"True. A and B CAN be complementary since PA + PB does add up to 1\" \\\n",
    "        \"However, we would require more information about their overlap to tell if they actually are\")"
   ]
  },
  {
   "attachments": {},
   "cell_type": "markdown",
   "metadata": {},
   "source": [
    "---\n",
    "### b) Disjunct"
   ]
  },
  {
   "cell_type": "code",
   "execution_count": 3,
   "metadata": {},
   "outputs": [
    {
     "name": "stdout",
     "output_type": "stream",
     "text": [
      "False. There is some overlap, therefore A and B cannot be disjunct\n"
     ]
    }
   ],
   "source": [
    "# for A and B to be disjunct, they need to be mutually exclusive\n",
    "# i.e. the sum of their probabilities must not exceed 1\n",
    "\n",
    "if PA + PB > 1:\n",
    "    print(\"False. There is some overlap, therefore A and B cannot be disjunct\")\n",
    "else:\n",
    "    print(\"True. A and B CAN be disjunct since PA + PB does not exceed 1\" \\\n",
    "        \"However, we would require more information about their overlap to tell if they actually are\")"
   ]
  },
  {
   "cell_type": "code",
   "execution_count": null,
   "metadata": {},
   "outputs": [],
   "source": []
  }
 ],
 "metadata": {
  "kernelspec": {
   "display_name": "Statistics-zAI2K-29",
   "language": "python",
   "name": "python3"
  },
  "language_info": {
   "codemirror_mode": {
    "name": "ipython",
    "version": 3
   },
   "file_extension": ".py",
   "mimetype": "text/x-python",
   "name": "python",
   "nbconvert_exporter": "python",
   "pygments_lexer": "ipython3",
   "version": "3.9.13"
  },
  "orig_nbformat": 4,
  "vscode": {
   "interpreter": {
    "hash": "f6da207b0334f49c0bbb522a9e4404d2433debe91ef35f47561f7bedf313f743"
   }
  }
 },
 "nbformat": 4,
 "nbformat_minor": 2
}
