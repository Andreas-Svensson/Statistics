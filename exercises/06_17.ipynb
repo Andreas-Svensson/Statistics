{
 "cells": [
  {
   "attachments": {},
   "cell_type": "markdown",
   "metadata": {},
   "source": [
    "# 6:17"
   ]
  },
  {
   "cell_type": "code",
   "execution_count": 1,
   "metadata": {},
   "outputs": [],
   "source": [
    "from math import sqrt\n",
    "\n",
    "n = 42\n",
    "women = 18"
   ]
  },
  {
   "attachments": {},
   "cell_type": "markdown",
   "metadata": {},
   "source": [
    "---\n",
    "### Calculate 95% Confidence Interval"
   ]
  },
  {
   "cell_type": "code",
   "execution_count": 2,
   "metadata": {},
   "outputs": [
    {
     "name": "stdout",
     "output_type": "stream",
     "text": [
      "df = 41, alpha / 2 = 0.025000000000000022\n"
     ]
    }
   ],
   "source": [
    "p_bar = women / n\n",
    "\n",
    "confidence = 0.95\n",
    "alpha = 1 - confidence\n",
    "df = n - 1\n",
    "\n",
    "print(f\"{df = }, {alpha / 2 = }\")"
   ]
  },
  {
   "cell_type": "code",
   "execution_count": 3,
   "metadata": {},
   "outputs": [
    {
     "name": "stdout",
     "output_type": "stream",
     "text": [
      "lower = 0.27890513310047094\n",
      "p_bar = 0.42857142857142855\n",
      "upper = 0.5782377240423862\n"
     ]
    }
   ],
   "source": [
    "t = 2.020\n",
    "z = 1.96\n",
    "\n",
    "sample_variance = (p_bar * (1 - p_bar)) / n\n",
    "s = sqrt(sample_variance)\n",
    "\n",
    "lower = p_bar - z * s\n",
    "upper = p_bar + z * s\n",
    "\n",
    "print(f\"{lower = }\")\n",
    "print(f\"{p_bar = }\")\n",
    "print(f\"{upper = }\")"
   ]
  },
  {
   "cell_type": "code",
   "execution_count": null,
   "metadata": {},
   "outputs": [],
   "source": []
  }
 ],
 "metadata": {
  "kernelspec": {
   "display_name": "Statistics-zAI2K-29",
   "language": "python",
   "name": "python3"
  },
  "language_info": {
   "codemirror_mode": {
    "name": "ipython",
    "version": 3
   },
   "file_extension": ".py",
   "mimetype": "text/x-python",
   "name": "python",
   "nbconvert_exporter": "python",
   "pygments_lexer": "ipython3",
   "version": "3.9.13"
  },
  "orig_nbformat": 4,
  "vscode": {
   "interpreter": {
    "hash": "f6da207b0334f49c0bbb522a9e4404d2433debe91ef35f47561f7bedf313f743"
   }
  }
 },
 "nbformat": 4,
 "nbformat_minor": 2
}
