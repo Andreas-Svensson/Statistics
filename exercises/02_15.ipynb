{
 "cells": [
  {
   "attachments": {},
   "cell_type": "markdown",
   "metadata": {},
   "source": [
    "# 2:15\n",
    "\n",
    "The odds of person 1 watching TV in any given day is 0.35  \n",
    "The odds of person 2 watching TV in any given day is 0.5  \n",
    "If person 2 watches TV, the odds of person 1 also watching is 0.6  "
   ]
  },
  {
   "cell_type": "code",
   "execution_count": 1,
   "metadata": {},
   "outputs": [],
   "source": [
    "PA = 0.35           # P(person 1 watching)\n",
    "PB = 0.5            # P(person 2 watching)\n",
    "PA_given_B = 0.6    # P(person 1 watching given that person 2 is watching)"
   ]
  },
  {
   "attachments": {},
   "cell_type": "markdown",
   "metadata": {},
   "source": [
    "---\n",
    "### a) What are the odds of both watching TV"
   ]
  },
  {
   "cell_type": "code",
   "execution_count": 2,
   "metadata": {},
   "outputs": [
    {
     "data": {
      "text/plain": [
       "0.3"
      ]
     },
     "execution_count": 2,
     "metadata": {},
     "output_type": "execute_result"
    }
   ],
   "source": [
    "# since we have been given explicit information about P(A|B) we use that\n",
    "# so the odds of A occurring given B has occurred, times the odds of B occurring\n",
    "# i.e. P(A|B) * P(B)\n",
    "PA_and_B = PA_given_B * PB\n",
    "\n",
    "PA_and_B"
   ]
  },
  {
   "attachments": {},
   "cell_type": "markdown",
   "metadata": {},
   "source": [
    "---\n",
    "### b) If person 2 watches TV, what are the odds of person 1 also watching?"
   ]
  },
  {
   "attachments": {},
   "cell_type": "markdown",
   "metadata": {},
   "source": [
    "In other words $P(B|A)$"
   ]
  },
  {
   "cell_type": "code",
   "execution_count": 3,
   "metadata": {},
   "outputs": [
    {
     "data": {
      "text/plain": [
       "0.8571428571428572"
      ]
     },
     "execution_count": 3,
     "metadata": {},
     "output_type": "execute_result"
    }
   ],
   "source": [
    "# P(B|A) = P(A AND B) / P(A) = P(B AND A) / P(A) ->\n",
    "PA_and_B / PA"
   ]
  },
  {
   "attachments": {},
   "cell_type": "markdown",
   "metadata": {},
   "source": [
    "---\n",
    "### c) Are the two events independent?"
   ]
  },
  {
   "cell_type": "code",
   "execution_count": 4,
   "metadata": {},
   "outputs": [
    {
     "data": {
      "text/plain": [
       "False"
      ]
     },
     "execution_count": 4,
     "metadata": {},
     "output_type": "execute_result"
    }
   ],
   "source": [
    "# for two events to be independent, the odds of both occuring must be the same as the odds of one occurring multiplied with the odds of the other occurring\n",
    "# i.e. P(A AND B) == P(A) * P(B)\n",
    "PA_and_B == PA * PB # not equal -> not independent"
   ]
  },
  {
   "cell_type": "code",
   "execution_count": null,
   "metadata": {},
   "outputs": [],
   "source": []
  }
 ],
 "metadata": {
  "kernelspec": {
   "display_name": "Statistics-zAI2K-29",
   "language": "python",
   "name": "python3"
  },
  "language_info": {
   "codemirror_mode": {
    "name": "ipython",
    "version": 3
   },
   "file_extension": ".py",
   "mimetype": "text/x-python",
   "name": "python",
   "nbconvert_exporter": "python",
   "pygments_lexer": "ipython3",
   "version": "3.9.13"
  },
  "orig_nbformat": 4,
  "vscode": {
   "interpreter": {
    "hash": "f6da207b0334f49c0bbb522a9e4404d2433debe91ef35f47561f7bedf313f743"
   }
  }
 },
 "nbformat": 4,
 "nbformat_minor": 2
}
