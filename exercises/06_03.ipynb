{
 "cells": [
  {
   "attachments": {},
   "cell_type": "markdown",
   "metadata": {},
   "source": [
    "# 6:3\n",
    "\n",
    "Given the following values from a population that is not normally distributed:"
   ]
  },
  {
   "cell_type": "code",
   "execution_count": 1,
   "metadata": {},
   "outputs": [],
   "source": [
    "from math import sqrt\n",
    "\n",
    "n = 35\n",
    "sigma = 12\n",
    "x_bar = 47"
   ]
  },
  {
   "attachments": {},
   "cell_type": "markdown",
   "metadata": {},
   "source": [
    "Is it possible to construct a 95% confidence interval using this information?"
   ]
  },
  {
   "cell_type": "code",
   "execution_count": 2,
   "metadata": {},
   "outputs": [
    {
     "data": {
      "text/plain": [
       "True"
      ]
     },
     "execution_count": 2,
     "metadata": {},
     "output_type": "execute_result"
    }
   ],
   "source": [
    "n >= 30 # can use CLT"
   ]
  },
  {
   "attachments": {},
   "cell_type": "markdown",
   "metadata": {},
   "source": [
    "Since we can approximate the distribution to a normal one, we can calculate a confidence interval using the following method:  \n",
    "The confidence interval is the values between $\\overline x - z * (\\sigma / \\sqrt {n})$ and $\\overline x + z * (\\sigma / \\sqrt {n})$  \n",
    "z can be read from the z table by finding the z-score of $1 - (1 - confidence) / 2$ where confidence is 0.95 as specified in the exercise  \n",
    "Thus we have all information required to calculate a confidence interval of 95%  \n",
    "\n",
    "### Answer: Yes, it is possible"
   ]
  },
  {
   "cell_type": "code",
   "execution_count": 3,
   "metadata": {},
   "outputs": [
    {
     "data": {
      "text/plain": [
       "0.975"
      ]
     },
     "execution_count": 3,
     "metadata": {},
     "output_type": "execute_result"
    }
   ],
   "source": [
    "# calculating the interval\n",
    "\n",
    "# start by getting probability\n",
    "confidence = 0.95\n",
    "probability = 1 - (1 - confidence) / 2 # divide by 2 to get one side only\n",
    "\n",
    "probability # the value used to locate z-score"
   ]
  },
  {
   "cell_type": "code",
   "execution_count": 4,
   "metadata": {},
   "outputs": [
    {
     "name": "stdout",
     "output_type": "stream",
     "text": [
      "The 95% confidence interval is all values between 43.02 and 50.98\n"
     ]
    }
   ],
   "source": [
    "z = 1.96 # from z-table\n",
    "\n",
    "lower = x_bar - z * (sigma / sqrt(n))\n",
    "upper = x_bar + z * (sigma / sqrt(n))\n",
    "\n",
    "print(f\"The 95% confidence interval is all values between {round(lower, 2)} and {round(upper, 2)}\")"
   ]
  },
  {
   "cell_type": "code",
   "execution_count": null,
   "metadata": {},
   "outputs": [],
   "source": []
  }
 ],
 "metadata": {
  "kernelspec": {
   "display_name": "Statistics-zAI2K-29",
   "language": "python",
   "name": "python3"
  },
  "language_info": {
   "codemirror_mode": {
    "name": "ipython",
    "version": 3
   },
   "file_extension": ".py",
   "mimetype": "text/x-python",
   "name": "python",
   "nbconvert_exporter": "python",
   "pygments_lexer": "ipython3",
   "version": "3.9.13"
  },
  "orig_nbformat": 4,
  "vscode": {
   "interpreter": {
    "hash": "f6da207b0334f49c0bbb522a9e4404d2433debe91ef35f47561f7bedf313f743"
   }
  }
 },
 "nbformat": 4,
 "nbformat_minor": 2
}
