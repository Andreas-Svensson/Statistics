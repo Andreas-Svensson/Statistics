{
 "cells": [
  {
   "attachments": {},
   "cell_type": "markdown",
   "metadata": {},
   "source": [
    "# 6:7\n",
    "\n"
   ]
  },
  {
   "cell_type": "code",
   "execution_count": 1,
   "metadata": {},
   "outputs": [],
   "source": [
    "from math import sqrt\n",
    "\n",
    "results = [8.0, 8.4, 8.8, 8.1, 8.8, 7.8, 8.4, 7.9, 8.0, 8.7, 8.2]"
   ]
  },
  {
   "cell_type": "code",
   "execution_count": 2,
   "metadata": {},
   "outputs": [
    {
     "data": {
      "text/plain": [
       "(0.025000000000000022, 10)"
      ]
     },
     "execution_count": 2,
     "metadata": {},
     "output_type": "execute_result"
    }
   ],
   "source": [
    "sample_length = len(results)\n",
    "\n",
    "sample_mean = sum(results) / sample_length\n",
    "\n",
    "sample_variance = (sum([x**2 for x in results]) - sample_length * sample_mean**2) / (sample_length - 1)\n",
    "sample_std = sqrt(sample_variance)\n",
    "\n",
    "confidence = 0.95\n",
    "\n",
    "alpha = 1 - confidence\n",
    "degrees_freedom = sample_length - 1\n",
    "\n",
    "alpha / 2, degrees_freedom"
   ]
  },
  {
   "cell_type": "code",
   "execution_count": 3,
   "metadata": {},
   "outputs": [
    {
     "name": "stdout",
     "output_type": "stream",
     "text": [
      "lower = 8.038089419963185\n",
      "estimated_mean = 8.281818181818181\n",
      "upper = 8.525546943673177\n"
     ]
    }
   ],
   "source": [
    "t = 2.228\n",
    "\n",
    "lower = sample_mean - t * (sample_std / sqrt(sample_length))\n",
    "upper = sample_mean + t * (sample_std / sqrt(sample_length))\n",
    "\n",
    "estimated_mean = (lower + upper) / 2\n",
    "\n",
    "print(f\"{lower = }\")\n",
    "print(f\"{estimated_mean = }\")\n",
    "print(f\"{upper = }\")"
   ]
  },
  {
   "cell_type": "code",
   "execution_count": null,
   "metadata": {},
   "outputs": [],
   "source": []
  }
 ],
 "metadata": {
  "kernelspec": {
   "display_name": "Statistics-zAI2K-29",
   "language": "python",
   "name": "python3"
  },
  "language_info": {
   "codemirror_mode": {
    "name": "ipython",
    "version": 3
   },
   "file_extension": ".py",
   "mimetype": "text/x-python",
   "name": "python",
   "nbconvert_exporter": "python",
   "pygments_lexer": "ipython3",
   "version": "3.9.13"
  },
  "orig_nbformat": 4,
  "vscode": {
   "interpreter": {
    "hash": "f6da207b0334f49c0bbb522a9e4404d2433debe91ef35f47561f7bedf313f743"
   }
  }
 },
 "nbformat": 4,
 "nbformat_minor": 2
}
